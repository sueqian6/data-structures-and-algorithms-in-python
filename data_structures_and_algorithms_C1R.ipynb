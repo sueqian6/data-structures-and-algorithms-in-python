{
  "nbformat": 4,
  "nbformat_minor": 0,
  "metadata": {
    "colab": {
      "name": "data structures and algorithms C1R.ipynb",
      "provenance": []
    },
    "kernelspec": {
      "name": "python3",
      "display_name": "Python 3"
    }
  },
  "cells": [
    {
      "cell_type": "markdown",
      "metadata": {
        "id": "vKk6X8CsGVXk",
        "colab_type": "text"
      },
      "source": [
        "C1.R\n"
      ]
    },
    {
      "cell_type": "code",
      "metadata": {
        "id": "Px9gF9FVF2ux",
        "colab_type": "code",
        "colab": {}
      },
      "source": [
        "#1.1\n",
        "def is_multiple(n,m):\n",
        "  if n%m == 0:\n",
        "    return True\n",
        "  else:\n",
        "    return False"
      ],
      "execution_count": 3,
      "outputs": []
    },
    {
      "cell_type": "code",
      "metadata": {
        "id": "2LNEjXFtGMos",
        "colab_type": "code",
        "colab": {
          "base_uri": "https://localhost:8080/",
          "height": 34
        },
        "outputId": "86fc2c71-5b62-4798-9658-110d45f82189"
      },
      "source": [
        "is_multiple(2,1)"
      ],
      "execution_count": 4,
      "outputs": [
        {
          "output_type": "execute_result",
          "data": {
            "text/plain": [
              "True"
            ]
          },
          "metadata": {
            "tags": []
          },
          "execution_count": 4
        }
      ]
    },
    {
      "cell_type": "code",
      "metadata": {
        "id": "ifxsf5zzGQHV",
        "colab_type": "code",
        "colab": {}
      },
      "source": [
        "#1.2\n",
        "def is_even(k):\n",
        "  if str(k)[-1] in '02468':\n",
        "    return True\n",
        "  else:\n",
        "    return False"
      ],
      "execution_count": 9,
      "outputs": []
    },
    {
      "cell_type": "code",
      "metadata": {
        "id": "5vu1d3XmGmly",
        "colab_type": "code",
        "colab": {
          "base_uri": "https://localhost:8080/",
          "height": 34
        },
        "outputId": "dc96a198-8aea-4675-a61a-ff9ebe1c3ffa"
      },
      "source": [
        "is_even(22)"
      ],
      "execution_count": 10,
      "outputs": [
        {
          "output_type": "execute_result",
          "data": {
            "text/plain": [
              "True"
            ]
          },
          "metadata": {
            "tags": []
          },
          "execution_count": 10
        }
      ]
    },
    {
      "cell_type": "code",
      "metadata": {
        "id": "Woc2NK65Gnp6",
        "colab_type": "code",
        "colab": {}
      },
      "source": [
        "#1.3\n",
        "def minmax(data):\n",
        "  min_d,max_d = data[0],data[0]\n",
        "  for item in data:\n",
        "    if item > max_d:\n",
        "      max_d = item\n",
        "    elif item < min_d:\n",
        "      min_d = item\n",
        "    else:\n",
        "      continue\n",
        "    return (min_d,max_d)"
      ],
      "execution_count": 17,
      "outputs": []
    },
    {
      "cell_type": "code",
      "metadata": {
        "id": "bJysJXEWHKzx",
        "colab_type": "code",
        "colab": {
          "base_uri": "https://localhost:8080/",
          "height": 34
        },
        "outputId": "0b3ea42d-9d09-4361-ebdd-a72154d4d2b6"
      },
      "source": [
        "minmax([1,2,3])"
      ],
      "execution_count": 18,
      "outputs": [
        {
          "output_type": "execute_result",
          "data": {
            "text/plain": [
              "(1, 2)"
            ]
          },
          "metadata": {
            "tags": []
          },
          "execution_count": 18
        }
      ]
    },
    {
      "cell_type": "code",
      "metadata": {
        "id": "ypmTgj1HHMUB",
        "colab_type": "code",
        "colab": {}
      },
      "source": [
        "#1.4\n",
        "def sum_square(n):\n",
        "  answer = 0\n",
        "  for i in range(n+1):\n",
        "    answer += i*i\n",
        "  return answer"
      ],
      "execution_count": 19,
      "outputs": []
    },
    {
      "cell_type": "code",
      "metadata": {
        "id": "bv1y8Y7zHxEY",
        "colab_type": "code",
        "colab": {
          "base_uri": "https://localhost:8080/",
          "height": 34
        },
        "outputId": "8704d700-4130-4d9d-cdd2-324ba4295ea1"
      },
      "source": [
        "sum_square(2)"
      ],
      "execution_count": 20,
      "outputs": [
        {
          "output_type": "execute_result",
          "data": {
            "text/plain": [
              "5"
            ]
          },
          "metadata": {
            "tags": []
          },
          "execution_count": 20
        }
      ]
    },
    {
      "cell_type": "code",
      "metadata": {
        "id": "kWPyew--HyJ6",
        "colab_type": "code",
        "colab": {}
      },
      "source": [
        "#1.5\n",
        "def sum_square1(n):\n",
        "  return sum(i*i for i in range(n+1))"
      ],
      "execution_count": 22,
      "outputs": []
    },
    {
      "cell_type": "code",
      "metadata": {
        "id": "kSJvY9jbH6Uw",
        "colab_type": "code",
        "colab": {
          "base_uri": "https://localhost:8080/",
          "height": 34
        },
        "outputId": "90a85542-bbae-430d-baa3-b58186871d92"
      },
      "source": [
        "sum_square1(2)"
      ],
      "execution_count": 23,
      "outputs": [
        {
          "output_type": "execute_result",
          "data": {
            "text/plain": [
              "5"
            ]
          },
          "metadata": {
            "tags": []
          },
          "execution_count": 23
        }
      ]
    },
    {
      "cell_type": "code",
      "metadata": {
        "id": "xS3iQALWIF1K",
        "colab_type": "code",
        "colab": {}
      },
      "source": [
        "#1.6\n",
        "def sum_odd(n):\n",
        "  return sum(i*i for i in range(1,n+1,2))"
      ],
      "execution_count": 24,
      "outputs": []
    },
    {
      "cell_type": "code",
      "metadata": {
        "id": "FjJ65sIPMb8r",
        "colab_type": "code",
        "colab": {
          "base_uri": "https://localhost:8080/",
          "height": 34
        },
        "outputId": "0e7c6d63-87a3-415a-b1fb-3fca4b475223"
      },
      "source": [
        "sum_odd(3)"
      ],
      "execution_count": 25,
      "outputs": [
        {
          "output_type": "execute_result",
          "data": {
            "text/plain": [
              "10"
            ]
          },
          "metadata": {
            "tags": []
          },
          "execution_count": 25
        }
      ]
    },
    {
      "cell_type": "code",
      "metadata": {
        "id": "T4laVbroMc6t",
        "colab_type": "code",
        "colab": {
          "base_uri": "https://localhost:8080/",
          "height": 51
        },
        "outputId": "59ec7e58-8d0b-4545-abc5-2ff570c1aefc"
      },
      "source": [
        "#1.8\n",
        "list1 = [1,2,3,5,6,7]\n",
        "n = len(list1)\n",
        "k=-2\n",
        "j = n-(-k)\n",
        "print(list1[k])\n",
        "print(list1[j])"
      ],
      "execution_count": 32,
      "outputs": [
        {
          "output_type": "stream",
          "text": [
            "6\n",
            "6\n"
          ],
          "name": "stdout"
        }
      ]
    },
    {
      "cell_type": "code",
      "metadata": {
        "id": "yF_o6qquNddA",
        "colab_type": "code",
        "colab": {
          "base_uri": "https://localhost:8080/",
          "height": 34
        },
        "outputId": "06dcf91f-faf5-4d99-989a-72a71acb7572"
      },
      "source": [
        "#1.9\n",
        "list1 = []\n",
        "for i in range(50,81,10):\n",
        "  list1.append(i)\n",
        "list1"
      ],
      "execution_count": 37,
      "outputs": [
        {
          "output_type": "execute_result",
          "data": {
            "text/plain": [
              "[50, 60, 70, 80]"
            ]
          },
          "metadata": {
            "tags": []
          },
          "execution_count": 37
        }
      ]
    },
    {
      "cell_type": "code",
      "metadata": {
        "id": "pG7Uow5uOGkA",
        "colab_type": "code",
        "colab": {
          "base_uri": "https://localhost:8080/",
          "height": 34
        },
        "outputId": "86567b73-6e6d-4a87-e0fa-a8b661f88474"
      },
      "source": [
        "#1.10\n",
        "list1 = []\n",
        "for i in range(8,-9,-2):\n",
        "  list1.append(i)\n",
        "list1"
      ],
      "execution_count": 39,
      "outputs": [
        {
          "output_type": "execute_result",
          "data": {
            "text/plain": [
              "[8, 6, 4, 2, 0, -2, -4, -6, -8]"
            ]
          },
          "metadata": {
            "tags": []
          },
          "execution_count": 39
        }
      ]
    },
    {
      "cell_type": "code",
      "metadata": {
        "id": "J1iPxVaQOgCO",
        "colab_type": "code",
        "colab": {
          "base_uri": "https://localhost:8080/",
          "height": 34
        },
        "outputId": "460f27cc-f299-422c-dd16-e6c77290872a"
      },
      "source": [
        "#1.11\n",
        "list1 = []\n",
        "for i in range(0,9):\n",
        "  list1.append(pow(2,i))\n",
        "list1"
      ],
      "execution_count": 40,
      "outputs": [
        {
          "output_type": "execute_result",
          "data": {
            "text/plain": [
              "[1, 2, 4, 8, 16, 32, 64, 128, 256]"
            ]
          },
          "metadata": {
            "tags": []
          },
          "execution_count": 40
        }
      ]
    },
    {
      "cell_type": "code",
      "metadata": {
        "id": "Oa2D5DF6PM3i",
        "colab_type": "code",
        "colab": {}
      },
      "source": [
        "#1.12\n",
        "from random import randrange\n",
        "def new_choice(data):\n",
        "  k = randrange(0,len(data))\n",
        "  return data[k]"
      ],
      "execution_count": 45,
      "outputs": []
    },
    {
      "cell_type": "code",
      "metadata": {
        "id": "W1VB6odpPYo_",
        "colab_type": "code",
        "colab": {
          "base_uri": "https://localhost:8080/",
          "height": 34
        },
        "outputId": "e535c5e0-5d21-4729-ad8f-097c223284d0"
      },
      "source": [
        "new_choice([0,1,2,3])"
      ],
      "execution_count": 48,
      "outputs": [
        {
          "output_type": "execute_result",
          "data": {
            "text/plain": [
              "2"
            ]
          },
          "metadata": {
            "tags": []
          },
          "execution_count": 48
        }
      ]
    },
    {
      "cell_type": "code",
      "metadata": {
        "id": "vsvzuWMyPbD9",
        "colab_type": "code",
        "colab": {}
      },
      "source": [
        ""
      ],
      "execution_count": 47,
      "outputs": []
    }
  ]
}